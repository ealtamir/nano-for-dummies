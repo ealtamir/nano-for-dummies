{
 "cells": [
  {
   "cell_type": "markdown",
   "metadata": {},
   "source": [
    "# Nano (cryptocurrency) for dummies\n",
    "\n",
    "This tutorial is intended to complement the [official Nano documentation](https://docs.nano.org/integration-guides/the-basics/). It implements almost all important functions needed to create valid blocks. The code was written in a simply and intuitive manner so that it's easy to follow.\n",
    "\n",
    "By reading this tutorial you will understand how a seed is created and how private/public key pairs are derived from it. These in turn are used to send and receive funds. You will understand how to build Nano blocks and what needs to be done for the network to consider them valid. Finally, once funds have been sent and received, we will import the seed to a popular wallet which will help us reinforce the fact that the seed is the key to any funds. \n",
    "\n",
    "Go to the beginning of the tutorial **[here](#tutorial-start)**"
   ]
  },
  {
   "cell_type": "code",
   "execution_count": null,
   "metadata": {},
   "outputs": [],
   "source": [
    "import re\n",
    "import binascii\n",
    "import secrets\n",
    "import base64\n",
    "import time\n",
    "import random\n",
    "import json\n",
    "import pprint\n",
    "from hashlib import blake2b\n",
    "\n",
    "try:\n",
    "    from typing import TypedDict\n",
    "except ImportError:\n",
    "    from mypy_extensions import TypedDict\n",
    "\n",
    "import nanolib as nl\n",
    "import requests\n",
    "import ed25519_blake2b"
   ]
  },
  {
   "cell_type": "code",
   "execution_count": null,
   "metadata": {},
   "outputs": [],
   "source": [
    "SEED_SIZE_BYTES = 32\n",
    "KEYS_SIZE_BYTES = 32\n",
    "CHECKSUM_DIGEST_SIZE_BYTES = 5\n",
    "PRIVATE_KEY_INDEX_SIZE_BYTES = 4\n",
    "SIGNATURE_DIGEST_SIZE_BYTES = 32\n",
    "WORK_SIZE_BYTES = 8\n",
    "BALANCE_SIZE_BYTES = 16\n",
    "NANO_ADDRESS_REGEX = '^(nano|xrb)_[13]{1}[13456789abcdefghijkmnopqrstuwxyz]{59}$'\n",
    "\n",
    "MAX_NONCE_SIZE = 2 ** 64 - 1\n",
    "MINIMUM_NETWORK_DIFFICULTY = \"fffffff800000000\"\n",
    "MINIMUM_RECEIVE_NETWORK_DIFFICULTY = \"fffffe0000000000\"\n",
    "\n",
    "DEFAULT_NANO_NODE = 'https://mynano.ninja/api/node'"
   ]
  },
  {
   "cell_type": "markdown",
   "metadata": {},
   "source": [
    "The block specification can be found [here](https://docs.nano.org/integration-guides/the-basics/#blocks-specifications)."
   ]
  },
  {
   "cell_type": "code",
   "execution_count": null,
   "metadata": {},
   "outputs": [],
   "source": [
    "class Block(TypedDict):\n",
    "    type: str\n",
    "    account: str\n",
    "    previous: str\n",
    "    representative: str\n",
    "    balance: str\n",
    "    link: str\n",
    "    signature: str\n",
    "    work: str"
   ]
  },
  {
   "cell_type": "code",
   "execution_count": null,
   "metadata": {},
   "outputs": [],
   "source": [
    "def generate_seed() -> str:\n",
    "    '''\n",
    "    Creates a new seed from bits produced by the system's strong random numbers generator.\n",
    "    Returns it in base16 encoding (using hexadecimal characters).\n",
    "    \n",
    "    More info: https://docs.nano.org/integration-guides/the-basics/#seed\n",
    "    '''\n",
    "    seed = secrets.token_bytes(SEED_SIZE_BYTES)\n",
    "    return base64.b16encode(seed).decode().upper()"
   ]
  },
  {
   "cell_type": "code",
   "execution_count": null,
   "metadata": {},
   "outputs": [],
   "source": [
    "def generate_public_private_key_pairs(seed: str, index: int = 0) -> (str, str):\n",
    "    '''\n",
    "    Using a base16 encoded seed and 32-bit number, we create a private key and its\n",
    "    corresponding public key. Both are returned in base16 encoding.\n",
    "    The formula for the private key is: private_key = Blake2b(seed || seed)\n",
    "    \n",
    "    More info: https://docs.nano.org/integration-guides/the-basics/#account-private-key\n",
    "    '''\n",
    "    if index > 2 ** 32 - 1:\n",
    "        raise Exception('Index must be representable with 32 bits. Max: {}'.format(2 ** 32  - 1))\n",
    "    # Regular Python ints are arbitrarily long, we want a 32-bits int, so we truncate. \n",
    "    index_in_bytes = int(index).to_bytes(8, byteorder='big')[:-PRIVATE_KEY_INDEX_SIZE_BYTES]\n",
    "    hasher = blake2b(digest_size=KEYS_SIZE_BYTES)\n",
    "    hasher.update(binascii.unhexlify(seed))\n",
    "    hasher.update(index_in_bytes)\n",
    "    private_key = hasher.digest()\n",
    "    signing_key = ed25519_blake2b.SigningKey(private_key)\n",
    "    verifying_key = signing_key.get_verifying_key().to_bytes()\n",
    "    return binascii.hexlify(private_key).upper().decode(), binascii.hexlify(verifying_key).upper().decode()"
   ]
  },
  {
   "cell_type": "code",
   "execution_count": null,
   "metadata": {},
   "outputs": [],
   "source": [
    "def derive_address_from_public_key(public_key: str) -> str:\n",
    "    '''\n",
    "    Receives a base16 encoded public key and returns a corresponding Nano address\n",
    "    of the form: nano_16odwi933gpzmkgdcy9tt5zef5ka3jcfubc97fwypsokg7sji4mb9n6qtbme\n",
    "    \n",
    "    More info: https://docs.nano.org/integration-guides/the-basics/#account-public-address\n",
    "    '''\n",
    "    key = binascii.unhexlify(public_key)\n",
    "    base64_key = nl.bytes_to_nbase32(key)\n",
    "    checksum = bytearray(blake2b(key, digest_size=CHECKSUM_DIGEST_SIZE_BYTES).digest())\n",
    "    checksum.reverse()\n",
    "    base64_checksum = nl.bytes_to_nbase32(bytes(checksum))\n",
    "    return 'nano_{}{}'.format(base64_key, base64_checksum)\n",
    "\n",
    "def derive_public_key_from_address(address: str) -> str:\n",
    "    '''\n",
    "    Receives a Nano address of the form: nano_16odwi933gpzmkgdcy9tt5zef5ka3jcfubc97fwypsokg7sji4mb9n6qtbme\n",
    "    and returns the base16 encoded public key corresponding to it.\n",
    "    \n",
    "    More info: https://docs.nano.org/integration-guides/the-basics/#account-public-address\n",
    "    '''\n",
    "    if not re.match(NANO_ADDRESS_REGEX, address):\n",
    "        raise Exception('Invalid Nano address: {}'.format(address))\n",
    "    address_part = address[5:-8]\n",
    "    checksum = address[-8:]\n",
    "    public_key = nl.nbase32_to_bytes(address_part)\n",
    "    checksum_bits = bytearray(blake2b(public_key, digest_size=5).digest())\n",
    "    checksum_bits.reverse()\n",
    "    computed_checksum = nl.bytes_to_nbase32(bytes(checksum_bits))\n",
    "    if checksum != computed_checksum:\n",
    "        raise Exception(\"Invalid Nano address. Could not validate checksum.\")\n",
    "    return binascii.hexlify(public_key).decode().upper()"
   ]
  },
  {
   "cell_type": "code",
   "execution_count": null,
   "metadata": {},
   "outputs": [],
   "source": [
    "# This was formerly used to include the type of block in the signature.\n",
    "# However, since the migration to Universal Blocks, the type of all blocks is 'state',\n",
    "# thus this remains for backwards compatibility, but is no longer useful.\n",
    "STATE_BLOCK_HEADER_BYTES = binascii.unhexlify(\"0000000000000000000000000000000000000000000000000000000000000006\")\n",
    "\n",
    "def process_link_data(block: Block) -> str:\n",
    "    '''\n",
    "    Each block has a link attribute which contains different data depending\n",
    "    on the purpose that the block is serving:\n",
    "        - SEND: contains the address of the recipient.\n",
    "        - RECEIVE: contains the block hash of the matching SEND block.\n",
    "        - CHANGE: contains a string with 0s.\n",
    "        \n",
    "    More info: https://docs.nano.org/integration-guides/the-basics/#block-format\n",
    "    '''\n",
    "    if re.match(NANO_ADDRESS_REGEX, block['link']):\n",
    "        # it's a send block\n",
    "        return derive_public_key_from_address(block['link'])\n",
    "    elif re.match('^[a-fA-F0-9]+$', block['link']):\n",
    "        # it's a receive block\n",
    "        return block['link']\n",
    "    elif len(set(block['link'])) == 1 and '0' in block['link']:\n",
    "        # it's a change block\n",
    "        return block['link']\n",
    "    else:\n",
    "        raise Exception('Block type cannot be determined from link attribute: {}'.format(block['link']))\n",
    "\n",
    "def create_block_hash(block: Block) -> str:\n",
    "    '''\n",
    "    Given a Block, generates its hash by serializing its fields, concatenating them,\n",
    "    and computing the blake2b hash of the result. Returns the hash in byte string.\n",
    "    \n",
    "    More info: https://docs.nano.org/integration-guides/the-basics/#self-signed-blocks\n",
    "    '''\n",
    "    public_key = derive_public_key_from_address(block['account'])\n",
    "    representative_key = derive_public_key_from_address(block['representative'])\n",
    "    \n",
    "    account = binascii.unhexlify(public_key)\n",
    "    previous = binascii.unhexlify(block['previous'])\n",
    "    representative = binascii.unhexlify(representative_key)\n",
    "    balance = int(block['balance']).to_bytes(BALANCE_SIZE_BYTES, byteorder='big')\n",
    "    link = binascii.unhexlify(process_link_data(block))\n",
    "    \n",
    "    hasher = blake2b(digest_size=SIGNATURE_DIGEST_SIZE_BYTES)\n",
    "    hasher.update(b''.join([\n",
    "        STATE_BLOCK_HEADER_BYTES, account, previous, representative, balance, link\n",
    "    ]))\n",
    "    return hasher.digest()\n",
    "\n",
    "def create_block_signature(block: Block, private_key: str) -> str:\n",
    "    '''\n",
    "    Receives a block and a base16 encoded private key, computes the hash of the block,\n",
    "    and then signs it using the private key. Returns the base16 encoded signature.\n",
    "    \n",
    "    More info: https://docs.nano.org/integration-guides/the-basics/#self-signed-blocks\n",
    "    '''\n",
    "    block_hash_bits = create_block_hash(block)\n",
    "    signing_key = ed25519_blake2b.SigningKey(binascii.unhexlify(private_key))\n",
    "    signature_bits = signing_key.sign(block_hash_bits)\n",
    "    return binascii.hexlify(signature_bits).decode().upper()\n",
    "\n",
    "def validate_block_signature(block: Block, signature: str, address: str) -> bool:\n",
    "    '''\n",
    "    Validates whether the signature for the block was created with a private key\n",
    "    matching the base16 encoded public key provided. Returns true or false depending\n",
    "    on whether the signature is valid or not. \n",
    "    \n",
    "    More info: https://docs.nano.org/integration-guides/the-basics/#self-signed-blocks\n",
    "    '''\n",
    "    public_key = derive_public_key_from_address(address)\n",
    "    verifying_key = ed25519_blake2b.VerifyingKey(public_key, encoding='hex')\n",
    "    block_hash = create_block_hash(block)\n",
    "    signature_bits = binascii.unhexlify(signature)\n",
    "    try:\n",
    "        verifying_key.verify(signature_bits, block_hash)\n",
    "        print('Signature is valid.')\n",
    "        return True\n",
    "    except ed25519_blake2b.BadSignatureError as e:\n",
    "        print('Signature is invalid: {}'.format(str(e)))\n",
    "        return False"
   ]
  },
  {
   "cell_type": "code",
   "execution_count": null,
   "metadata": {},
   "outputs": [],
   "source": [
    "def get_block_hash(block: Block) -> str:\n",
    "    if len(set(block['previous'])) == 1 and '0' in block['previous']:\n",
    "        public_key = derive_public_key_from_address(block['account'])\n",
    "        return public_key\n",
    "    else:\n",
    "        return block['previous']\n",
    "\n",
    "#\n",
    "#  WARNING: This function is extremely inefficient. It will take several minutes to compute the PoW at default difficulty.\n",
    "#\n",
    "def compute_work(block: Block, difficulty: str = MINIMUM_NETWORK_DIFFICULTY, timeout_seconds: int = 720) -> str:\n",
    "    '''\n",
    "    Given a block and a network difficulty, this function calculates the nonce necessary to\n",
    "    submit the block to the network. It receives as a parameter a timeout. The function will\n",
    "    continue looking for a nonce until it is found, or the timeout is exceeded. In the latter case,\n",
    "    None is returned.\n",
    "    \n",
    "    The nonce returned satisfies the equation:\n",
    "    1. For the first block in an account: \n",
    "        Blake2b(nonce || public_key) >= network difficulty\n",
    "        \n",
    "    2. For all other blocks: \n",
    "        Blake2b(nonce || previous_block) >= network_difficulty\n",
    "    \n",
    "    More info: https://docs.nano.org/integration-guides/work-generation/#work-calculation-details\n",
    "    '''\n",
    "    block_hash = binascii.unhexlify(get_block_hash(block))\n",
    "    nonce = None\n",
    "    start_time = time.process_time()\n",
    "    while time.process_time() - start_time < timeout_seconds:\n",
    "        candidate = bytearray(random.randint(0, MAX_NONCE_SIZE).to_bytes(8, byteorder='big'))\n",
    "        candidate.reverse()\n",
    "        work = blake2b(b''.join([candidate, block_hash]), digest_size=WORK_SIZE_BYTES).digest()\n",
    "        work = bytearray(work)\n",
    "        work.reverse()\n",
    "        computed_work = binascii.hexlify(work).decode()\n",
    "        if computed_work >= difficulty:\n",
    "            candidate.reverse()\n",
    "            nonce = binascii.hexlify(candidate)\n",
    "            break\n",
    "    if nonce:\n",
    "        end_time = time.process_time()\n",
    "        print('Took {}s seconds to compute work.'.format(end_time - start_time))\n",
    "        return nonce.decode()\n",
    "    else:\n",
    "        print('Work computation timed out. No work found for the selected difficulty.')\n",
    "\n",
    "def validate_work(block: Block, nonce: str, difficulty: str = MINIMUM_NETWORK_DIFFICULTY) -> True:\n",
    "    '''\n",
    "    Receives a block and a nonce, validates whether the nonce satisfies the PoW equation at the provided\n",
    "    level of network difficulty.\n",
    "    \n",
    "    More info: https://docs.nano.org/integration-guides/work-generation/#work-calculation-details\n",
    "    '''\n",
    "    if not nonce:\n",
    "        print('Invalid nonce provided.')\n",
    "        return False\n",
    "    block_hash = binascii.unhexlify(get_block_hash(block))\n",
    "    bin_nonce = bytearray(binascii.unhexlify(nonce))\n",
    "    bin_nonce.reverse()\n",
    "    computed_hash = bytearray(blake2b(b''.join([bin_nonce, block_hash]), digest_size=WORK_SIZE_BYTES).digest())\n",
    "    computed_hash.reverse()\n",
    "    work = binascii.hexlify(computed_hash).decode()\n",
    "    if work >= difficulty:\n",
    "        print('Nonce {} is valid. Hash computed is {} which is larger than the difficulty {}.'.format(nonce, work, difficulty))\n",
    "        return True\n",
    "    else:\n",
    "        print('Nonce {} is not valid. Computed work is {} which is smaller than difficulty {}.'.format(nonce, work, difficulty))\n",
    "        return False"
   ]
  },
  {
   "cell_type": "code",
   "execution_count": null,
   "metadata": {},
   "outputs": [],
   "source": [
    "\n",
    "def process_block(block: Block,\n",
    "                  node_hostname: str,\n",
    "                  subtype: str,\n",
    "                  difficulty: str = MINIMUM_NETWORK_DIFFICULTY) -> any:\n",
    "    if not validate_work(block, block['work']):\n",
    "        raise Exception('Work used in block is invalid.')\n",
    "    if not validate_block_signature(block, block['signature'], block['account']):\n",
    "        raise Exception('Signature used in block is invalid.')\n",
    "    data = {'subtype': subtype, 'action': 'process', 'block': block, 'json_block': True}\n",
    "    print('Sending data to node:')\n",
    "    pprint.PrettyPrinter(indent=2).pprint(data)\n",
    "    r = requests.post(DEFAULT_NANO_NODE, json=data)\n",
    "    return r.json()"
   ]
  },
  {
   "cell_type": "markdown",
   "metadata": {},
   "source": [
    "<a id='tutorial-start'></a>\n",
    "\n",
    "\n",
    "# Tutorial Start"
   ]
  },
  {
   "cell_type": "markdown",
   "metadata": {},
   "source": [
    "### 1. Deriving a Nano address\n",
    "Nano addresses are derived using a private key which is generated through a random seed. The seed is what gives you access to your account and proves your ownership of it to the network. Whoever has access to a seed, has control over the accounts based on that seed.\n",
    "\n",
    "\n",
    "Execute the cell below and use the resulting Nano address to have a faucet or wallet send funds to it.\n",
    "\n",
    "One possible faucet would be: https://www.freenanofaucet.com/"
   ]
  },
  {
   "cell_type": "code",
   "execution_count": null,
   "metadata": {},
   "outputs": [],
   "source": [
    "index = 0\n",
    "seed = generate_seed()\n",
    "private_key, public_key = generate_public_private_key_pairs(seed, index)\n",
    "public_address = derive_address_from_public_key(public_key)\n",
    "print('Nano address: {}'.format(public_address))"
   ]
  },
  {
   "cell_type": "markdown",
   "metadata": {},
   "source": [
    "### 2. Validate that funds were sent to your address\n",
    "\n",
    "Using a Nano block explorer (i.a. https://nanocrawler.cc/), do a lookup of the address you used to find all SEND blocks pending for confirmation. You should see one block, which is the one that was generated by the faucet. In order to pocket these Nanos, you need to create a corresponding RECEIVE block, so that the network acknowledges your reception of the funds. We will do that in the following cells.\n",
    "\n",
    "We will need some information from the block explorer:\n",
    "1. The **balance**, that is, the amount Nano sent. This is a very big number (at most 16 bytes long, that is 128 bits), the unit used for all balances is the raw, the smallest unit representable by the network. One Nano is equivalent to 10 ** 30 raw. \n",
    "2. The **block hash**, the unique identifier that represents this block in the network."
   ]
  },
  {
   "cell_type": "markdown",
   "metadata": {},
   "source": [
    "### 3. Block creation\n",
    "\n",
    "There are three types of blocks SEND, RECEIVE and CHANGE. Every account in Nano is created from a RECEIVE block, which is the one we'll create in order to pocket the money from the faucet. The very first block for this account.\n",
    "\n",
    "You can find information on what each of the block fields represent in these links:\n",
    "- https://docs.nano.org/integration-guides/the-basics/#block-format\n",
    "- https://docs.nano.org/integration-guides/key-management/#creating-transactions"
   ]
  },
  {
   "cell_type": "code",
   "execution_count": null,
   "metadata": {},
   "outputs": [],
   "source": [
    "# Example: '123000000000000000000000000'\n",
    "balance = '< YOUR BALANCE GOES HERE >'  \n",
    "\n",
    "# Example: '785A65D2125806A9AFF251D60F39F1C80FD39FD1F125FACD7E6293FD33359B55'\n",
    "previous = '< THE PREVIOUS BLOCK HASH GOES HERE >'\n",
    "\n",
    "block = {\n",
    "    'type': 'state',\n",
    "    'account': public_address,\n",
    "    'previous': '0' * 64,\n",
    "    'representative': 'nano_1wenanoqm7xbypou7x3nue1isaeddamjdnc3z99tekjbfezdbq8fmb659o7t',\n",
    "    'balance': balance,\n",
    "    'link': previous,\n",
    "}"
   ]
  },
  {
   "cell_type": "markdown",
   "metadata": {},
   "source": [
    "We compute the signature of the block by obtaining the Blake2b hash of the concatenation of its fields, and then signing it using the private key that matches the Nano address used in the faucet."
   ]
  },
  {
   "cell_type": "code",
   "execution_count": null,
   "metadata": {},
   "outputs": [],
   "source": [
    "signature = create_block_signature(block, private_key)\n",
    "validate_block_signature(block, signature, public_address)\n",
    "block['signature'] = signature"
   ]
  },
  {
   "cell_type": "markdown",
   "metadata": {},
   "source": [
    "**WARNING:** The *compute_work* function is extremely inefficient. It will take several minutes to compute the PoW at default difficulty.\n",
    "\n",
    "In order to prevent spam in the network, we must calculate a small PoW for the network to accept our valid block. Highly optimized setups can\n",
    "compute PoW is seconds, however, our example will take several minutes. Please have patience. "
   ]
  },
  {
   "cell_type": "code",
   "execution_count": null,
   "metadata": {},
   "outputs": [],
   "source": [
    "nonce = compute_work(block, timeout_seconds=1000)\n",
    "validate_work(block, nonce)\n",
    "block['work'] = nonce"
   ]
  },
  {
   "cell_type": "markdown",
   "metadata": {},
   "source": [
    "### 4. Ask a node to process our block\n",
    "\n",
    "Once our block has been created, properly signed and its PoW computed, all we need to do is send it to a node so that it gets propagated throughout the network. We can send this request as many times as we want, since the operation will only execute once."
   ]
  },
  {
   "cell_type": "code",
   "execution_count": null,
   "metadata": {},
   "outputs": [],
   "source": [
    "response = process_block(block, DEFAULT_NANO_NODE, 'open')\n",
    "if 'hash' in response:\n",
    "    print('Transaction was accepted. Its block hash is: {}'.format(response['hash']))\n",
    "else:\n",
    "    print('Transaction was not accepted. Response is: {}'.format(response))"
   ]
  },
  {
   "cell_type": "markdown",
   "metadata": {},
   "source": [
    "### 5. Validate that the block was processed by the network\n",
    "\n",
    "Using a Nano block explorer (i.a. https://nanocrawler.cc), check that the block hash obtained above was registered by the network. Once the RECEIVE block is processed, you'll have pocketed the funds and they'll be ready to be spent."
   ]
  },
  {
   "cell_type": "markdown",
   "metadata": {},
   "source": [
    "### 6. Sending Nanos\n",
    "In the following cells we repeat the steps taken above, but this time to submit a SEND block."
   ]
  },
  {
   "cell_type": "code",
   "execution_count": null,
   "metadata": {},
   "outputs": [],
   "source": [
    "# Example: FF474514E2B7DED97A665C21210C273EFB6A6D4ED4A30EAAE761837D3FED25F3\n",
    "previous = '< PREVIOUS BLOCK HASH HERE >'\n",
    "\n",
    "recipient_nano_address = '< RECIPIENT HERE >'\n",
    "\n",
    "send_block = {\n",
    "    'type': 'state',\n",
    "    'account': public_address,\n",
    "    'previous': previous,\n",
    "    'representative': 'nano_1wenanoqm7xbypou7x3nue1isaeddamjdnc3z99tekjbfezdbq8fmb659o7t',\n",
    "    'balance': '1',\n",
    "    'link': recipient_nano_address\n",
    "}"
   ]
  },
  {
   "cell_type": "code",
   "execution_count": null,
   "metadata": {},
   "outputs": [],
   "source": [
    "send_block['signature'] = create_block_signature(send_block, private_key)"
   ]
  },
  {
   "cell_type": "markdown",
   "metadata": {},
   "source": [
    "**WARNING:** The *compute_work* function is extremely inefficient. It will take several minutes to compute the PoW at default difficulty."
   ]
  },
  {
   "cell_type": "code",
   "execution_count": null,
   "metadata": {},
   "outputs": [],
   "source": [
    "send_block['work'] = compute_work(send_block, timeout_seconds=10000)"
   ]
  },
  {
   "cell_type": "code",
   "execution_count": null,
   "metadata": {},
   "outputs": [],
   "source": [
    "process_block(send_block, DEFAULT_NANO_NODE, 'send')"
   ]
  },
  {
   "cell_type": "markdown",
   "metadata": {},
   "source": [
    "### 7. Use a Nano wallet to continue managing your account\n",
    "\n",
    "Import the seed you created into a wallet (i.a https://nault.cc) to continue operating your account. The wallet will load the operations performed by it using only the seed. This shows that in Nano, as in any cryptocurrency worth its salt, your funds are tied to this number. \n",
    "For this reason, **it's extremely important to keep it secret and safe**."
   ]
  },
  {
   "cell_type": "code",
   "execution_count": null,
   "metadata": {},
   "outputs": [],
   "source": [
    "print('Use this seed to import your account into a wallet: {}'.format(seed))"
   ]
  },
  {
   "cell_type": "code",
   "execution_count": null,
   "metadata": {},
   "outputs": [],
   "source": []
  }
 ],
 "metadata": {
  "kernelspec": {
   "display_name": "Python 3",
   "language": "python",
   "name": "python3"
  },
  "language_info": {
   "codemirror_mode": {
    "name": "ipython",
    "version": 3
   },
   "file_extension": ".py",
   "mimetype": "text/x-python",
   "name": "python",
   "nbconvert_exporter": "python",
   "pygments_lexer": "ipython3",
   "version": "3.8.6"
  }
 },
 "nbformat": 4,
 "nbformat_minor": 4
}
